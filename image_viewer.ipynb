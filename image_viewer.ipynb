{
 "cells": [
  {
   "cell_type": "code",
   "execution_count": null,
   "id": "e095d3c0-43b6-433f-ad19-fb03b00d9cba",
   "metadata": {
    "jupyter": {
     "source_hidden": true
    },
    "tags": []
   },
   "outputs": [
    {
     "data": {
      "application/vnd.jupyter.widget-view+json": {
       "model_id": "19d5036de7f7449f9a6e27ea4a933814",
       "version_major": 2,
       "version_minor": 0
      },
      "text/plain": [
       "HBox(children=(Image(value=b'\\x89PNG\\r\\n\\x1a\\n\\x00\\x00\\x00\\rIHDR\\x00\\x00\\x01\\xf4\\x00\\x00\\x01\\xf4\\x08\\x06\\x00\\x…"
      ]
     },
     "metadata": {},
     "output_type": "display_data"
    },
    {
     "name": "stdout",
     "output_type": "stream",
     "text": [
      "\n",
      "/home/raphaelp/Documents/gaussian_splatting/results/64_9.png\n"
     ]
    }
   ],
   "source": [
    "# display latest images in dir\n",
    "import glob\n",
    "import os\n",
    "import time\n",
    "\n",
    "import ipywidgets as widgets\n",
    "import numpy as np\n",
    "from config_2d import Config\n",
    "from IPython import display\n",
    "from matplotlib import pyplot as plt\n",
    "from PIL import Image\n",
    "\n",
    "config = Config()\n",
    "\n",
    "base_dir = \"/home/raphaelp/Documents/gaussian_splatting/results\"\n",
    "compare_target = \"target.png\"\n",
    "\n",
    "\n",
    "def show_fig(images, name=\"\"):\n",
    "    display.clear_output(wait=True)\n",
    "    img_widgets = [\n",
    "        widgets.Image(value=f, format=\"png\", width=400, height=400) for f in images\n",
    "    ]\n",
    "    sidebyside = widgets.HBox(img_widgets)\n",
    "    display.display(sidebyside)\n",
    "    print()\n",
    "\n",
    "\n",
    "target_im = open(f\"{base_dir}/{compare_target}\", \"rb\").read()\n",
    "\n",
    "curr_file = None\n",
    "\n",
    "fig = plt.figure()\n",
    "ax = plt.gca()\n",
    "fig.show()\n",
    "\n",
    "try:\n",
    "    while True:\n",
    "        list_of_files = glob.glob(f\"{base_dir}/*.png\")\n",
    "        latest_file = max(list_of_files, key=os.path.getctime)\n",
    "        if latest_file != curr_file and not latest_file.endswith(\"target.png\"):\n",
    "            time.sleep(0.1)\n",
    "            curr_file = latest_file\n",
    "            target_im = open(f\"{base_dir}/{compare_target}\", \"rb\").read()\n",
    "            curr_im = open(curr_file, \"rb\").read()\n",
    "            show_fig([target_im, curr_im], name=curr_file)\n",
    "            print(curr_file)\n",
    "\n",
    "        time.sleep(0.1)\n",
    "except KeyboardInterrupt:\n",
    "    pass"
   ]
  }
 ],
 "metadata": {
  "kernelspec": {
   "display_name": "Python 3 (ipykernel)",
   "language": "python",
   "name": "python3"
  },
  "language_info": {
   "codemirror_mode": {
    "name": "ipython",
    "version": 3
   },
   "file_extension": ".py",
   "mimetype": "text/x-python",
   "name": "python",
   "nbconvert_exporter": "python",
   "pygments_lexer": "ipython3",
   "version": "3.10.12"
  }
 },
 "nbformat": 4,
 "nbformat_minor": 5
}
